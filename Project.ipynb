{
  "nbformat": 4,
  "nbformat_minor": 0,
  "metadata": {
    "colab": {
      "provenance": [],
      "authorship_tag": "ABX9TyNQcIU1jBj0lIqR0lAGQ5Ph",
      "include_colab_link": true
    },
    "kernelspec": {
      "name": "python3",
      "display_name": "Python 3"
    },
    "language_info": {
      "name": "python"
    }
  },
  "cells": [
    {
      "cell_type": "markdown",
      "metadata": {
        "id": "view-in-github",
        "colab_type": "text"
      },
      "source": [
        "<a href=\"https://colab.research.google.com/github/Requiem392/Program-Python/blob/main/Project.ipynb\" target=\"_parent\"><img src=\"https://colab.research.google.com/assets/colab-badge.svg\" alt=\"Open In Colab\"/></a>"
      ]
    },
    {
      "cell_type": "markdown",
      "source": [
        "# Aula Listas Em Python"
      ],
      "metadata": {
        "id": "hDi4u2xIr8jP"
      }
    },
    {
      "cell_type": "code",
      "source": [
        "print(\"Hello World\")"
      ],
      "metadata": {
        "colab": {
          "base_uri": "https://localhost:8080/"
        },
        "id": "U7elcn47rxSo",
        "outputId": "09c41989-4b00-426a-f732-1ecc66519924"
      },
      "execution_count": 2,
      "outputs": [
        {
          "output_type": "stream",
          "name": "stdout",
          "text": [
            "Hello World\n"
          ]
        }
      ]
    },
    {
      "cell_type": "code",
      "source": [
        "#Código Simples\n",
        "nome = \"Erick\"\n",
        "print(nome)"
      ],
      "metadata": {
        "colab": {
          "base_uri": "https://localhost:8080/"
        },
        "id": "DfhD9yKNr44P",
        "outputId": "a1e403ce-0275-4ebc-e3f1-d77f4e900e62"
      },
      "execution_count": 3,
      "outputs": [
        {
          "output_type": "stream",
          "name": "stdout",
          "text": [
            "Erick\n"
          ]
        }
      ]
    },
    {
      "cell_type": "code",
      "source": [
        "nota1 = float(input(\"Digite a nota 1 \"))\n",
        "nota2 = float(input(\"Digite a nota 2 \"))\n",
        "media = (nota1 + nota2)/2\n",
        "\n",
        "print(media)"
      ],
      "metadata": {
        "colab": {
          "base_uri": "https://localhost:8080/"
        },
        "id": "W4lDy6ddsfom",
        "outputId": "dde9fe69-c140-4c7c-fa3a-250a092600c6"
      },
      "execution_count": 6,
      "outputs": [
        {
          "output_type": "stream",
          "name": "stdout",
          "text": [
            "Digite a nota 1 5\n",
            "Digite a nota 2 7\n",
            "6.0\n"
          ]
        }
      ]
    },
    {
      "cell_type": "markdown",
      "source": [
        "#Listas"
      ],
      "metadata": {
        "id": "E8-8TCJItfvj"
      }
    },
    {
      "cell_type": "code",
      "source": [
        "frutas = [\"maça\", \"laranja\", \"uva\"]\n",
        "numeros = [3, 5, 6, 2, 7]\n",
        "mista = [1, \"Olá\", True, 3, 3.14]\n",
        "\n",
        "print(frutas)\n",
        "print(numeros)\n",
        "print"
      ],
      "metadata": {
        "colab": {
          "base_uri": "https://localhost:8080/"
        },
        "id": "QZYrpcHqtigK",
        "outputId": "75a8d554-d50e-4392-a163-1ced6e324cd5"
      },
      "execution_count": 9,
      "outputs": [
        {
          "output_type": "stream",
          "name": "stdout",
          "text": [
            "['maça', 'laranja', 'uva']\n",
            "[3, 5, 6, 2, 7]\n",
            "[1, 'Olá', True, 3, 3.14]\n"
          ]
        }
      ]
    },
    {
      "cell_type": "markdown",
      "source": [
        "#Acessar Elementos"
      ],
      "metadata": {
        "id": "bj6ZRIkNvAJz"
      }
    },
    {
      "cell_type": "code",
      "source": [
        "lista = [5, 8, 9, 17, 1, 3]\n",
        "\n",
        "print(lista[0])\n",
        "print(lista[3])\n",
        "\n",
        "print(lista[-1])\n",
        "print(lista[-2])"
      ],
      "metadata": {
        "colab": {
          "base_uri": "https://localhost:8080/"
        },
        "id": "aaFAnLe9vCXj",
        "outputId": "008ff3b5-aa35-459c-8dea-e8426b40aab8"
      },
      "execution_count": 10,
      "outputs": [
        {
          "output_type": "stream",
          "name": "stdout",
          "text": [
            "5\n"
          ]
        }
      ]
    },
    {
      "cell_type": "code",
      "source": [
        "#Modificar Elementos\n",
        "\n",
        "lista[2] = 250\n",
        "\n",
        "print(lista)"
      ],
      "metadata": {
        "colab": {
          "base_uri": "https://localhost:8080/"
        },
        "id": "tFEJlhtFwB1D",
        "outputId": "1fc3f183-61e1-4e8c-fd1c-eae7e9dcae14"
      },
      "execution_count": 49,
      "outputs": [
        {
          "output_type": "stream",
          "name": "stdout",
          "text": [
            "[0, 2, 250, 6, 7, 11]\n"
          ]
        }
      ]
    },
    {
      "cell_type": "code",
      "source": [
        "#Adicionar Elementos\n",
        "#append() adiciona um elemento no final da lista\n",
        "\n",
        "lista = [1, 2]\n",
        "\n",
        "lista.append(3)\n",
        "print(lista)\n",
        "\n",
        "#Inserir em uma posição específica\n",
        "lista.insert(1, 9)\n",
        "print(lista)"
      ],
      "metadata": {
        "colab": {
          "base_uri": "https://localhost:8080/"
        },
        "id": "K9ya4bShw5oq",
        "outputId": "379b689e-c7ef-4f09-f55e-5c1acaa10437"
      },
      "execution_count": 16,
      "outputs": [
        {
          "output_type": "stream",
          "name": "stdout",
          "text": [
            "[1, 2, 3]\n",
            "[1, 9, 2, 3]\n"
          ]
        }
      ]
    },
    {
      "cell_type": "code",
      "source": [
        "#Remover elementos\n",
        "\n",
        "nomes = [\"André\", \"Ana\", \"Bento\", \"Leandro\"]\n",
        "\n",
        "#Pelo valor\n",
        "nomes.remove(\"Ana\")\n",
        "print(nomes)\n",
        "\n",
        "#Pelo índice\n",
        "nomes.pop(0)\n",
        "print(nomes)\n",
        "\n",
        "#Pelo último valor\n",
        "nomes.pop()\n",
        "print(nomes)"
      ],
      "metadata": {
        "colab": {
          "base_uri": "https://localhost:8080/"
        },
        "id": "6Kr4tiMzyHkD",
        "outputId": "d8df9562-429a-4080-a082-714406c813fe"
      },
      "execution_count": 25,
      "outputs": [
        {
          "output_type": "stream",
          "name": "stdout",
          "text": [
            "['André', 'Bento', 'Leandro']\n",
            "['Bento', 'Leandro']\n",
            "['Bento']\n"
          ]
        }
      ]
    },
    {
      "cell_type": "code",
      "source": [
        "#Fatiamento\n",
        "\n",
        "lista = [0, 1, 2, 3, 4, 5, 6, 7, 8, 9]\n",
        "\n",
        "#Sintaxe: lista [início:fim:passo]\n",
        "print(lista[:5])\n",
        "print(lista[6:])\n",
        "print(lista[3:9])\n",
        "print(lista[::2])\n",
        "print(lista[::-1])"
      ],
      "metadata": {
        "colab": {
          "base_uri": "https://localhost:8080/"
        },
        "id": "ZImK2oRfz35D",
        "outputId": "d3b786a2-8cfb-4579-b7a4-4c8d81ffd44f"
      },
      "execution_count": 32,
      "outputs": [
        {
          "output_type": "stream",
          "name": "stdout",
          "text": [
            "[0, 1, 2, 3, 4]\n",
            "[6, 7, 8, 9]\n",
            "[3, 4, 5, 6, 7, 8]\n",
            "[0, 2, 4, 6, 8]\n",
            "[9, 8, 7, 6, 5, 4, 3, 2, 1, 0]\n"
          ]
        }
      ]
    },
    {
      "cell_type": "code",
      "source": [
        "#Funções Úteis\n",
        "\n",
        "lista = [4, 7, 6, 11, 2, 0]\n",
        "\n",
        "#Tamanho da Lista\n",
        "print(len(lista))\n",
        "\n",
        "#Maior e o menor valor da lista\n",
        "print(max(lista))\n",
        "print(min(lista))\n",
        "\n",
        "#Soma dos elementos\n",
        "print(sum(lista))\n",
        "\n",
        "#Ordenação\n",
        "lista.sort()\n",
        "print(lista)"
      ],
      "metadata": {
        "colab": {
          "base_uri": "https://localhost:8080/"
        },
        "id": "RIwTCUgv2HRy",
        "outputId": "c99c0be5-eaac-4f72-d8a7-cf9ff15a8b22"
      },
      "execution_count": 36,
      "outputs": [
        {
          "output_type": "stream",
          "name": "stdout",
          "text": [
            "6\n",
            "11\n",
            "0\n",
            "30\n",
            "[0, 2, 4, 6, 7, 11]\n"
          ]
        }
      ]
    },
    {
      "cell_type": "code",
      "source": [
        "#Laços em Listas\n",
        "\n",
        "compras = [\"ovo\", \"manteiga\", \"café\", \"pão\", \"laranja\"]\n",
        "\n",
        "for item in compras:\n",
        "  print(item)\n",
        "\n",
        "for indice, item in enumerate(compras):\n",
        "  print(f\"Produto {indice} - {item}\")"
      ],
      "metadata": {
        "colab": {
          "base_uri": "https://localhost:8080/"
        },
        "id": "dIoEu89y5zAh",
        "outputId": "86284787-0d65-4010-eca4-2d5478f52eef"
      },
      "execution_count": 40,
      "outputs": [
        {
          "output_type": "stream",
          "name": "stdout",
          "text": [
            "ovo\n",
            "manteiga\n",
            "café\n",
            "pão\n",
            "laranja\n",
            "Produto 0 - ovo\n",
            "Produto 1 - manteiga\n",
            "Produto 2 - café\n",
            "Produto 3 - pão\n",
            "Produto 4 - laranja\n"
          ]
        }
      ]
    },
    {
      "cell_type": "code",
      "source": [
        "#Filtar elementos com for\n",
        "\n",
        "for item in compras:\n",
        "  if \"a\" in item:\n",
        "    print(f\"{item} contém a letra a\")"
      ],
      "metadata": {
        "colab": {
          "base_uri": "https://localhost:8080/"
        },
        "id": "ItTp88uA7jKp",
        "outputId": "1ec2c420-e554-487d-d3db-d97063e9c786"
      },
      "execution_count": 44,
      "outputs": [
        {
          "output_type": "stream",
          "name": "stdout",
          "text": [
            "manteiga contém a letra a\n",
            "café contém a letra a\n",
            "laranja contém a letra a\n"
          ]
        }
      ]
    },
    {
      "cell_type": "markdown",
      "source": [
        "## Strings\n",
        "- strings são listas de caracteres\n",
        "- as funções utlizadas em listas, podem ser utlizadas para strings\n"
      ],
      "metadata": {
        "id": "00av_fFJ9hYQ"
      }
    },
    {
      "cell_type": "code",
      "source": [
        "#Concatenação\n",
        "nome = \"Erick\"\n",
        "\n",
        "print(nome, nome)\n",
        "print(nome + nome)\n",
        "print(f\"{nome} {nome}\")"
      ],
      "metadata": {
        "colab": {
          "base_uri": "https://localhost:8080/"
        },
        "id": "I8b79O129kho",
        "outputId": "d9b75943-0642-4567-97eb-6911ee8a3916"
      },
      "execution_count": 54,
      "outputs": [
        {
          "output_type": "stream",
          "name": "stdout",
          "text": [
            "Erick Erick\n",
            "ErickErick\n",
            "Erick Erick\n"
          ]
        }
      ]
    },
    {
      "cell_type": "code",
      "source": [
        "#Acessar caracteres\n",
        "texto = \"Python\"\n",
        "print(texto[0])\n",
        "\n",
        "for letra in texto:\n",
        "  print(letra)"
      ],
      "metadata": {
        "colab": {
          "base_uri": "https://localhost:8080/"
        },
        "id": "2vtCqcLC_A9x",
        "outputId": "4267586b-c079-4fdd-b1a2-2f4b98e13ddc"
      },
      "execution_count": 55,
      "outputs": [
        {
          "output_type": "stream",
          "name": "stdout",
          "text": [
            "P\n",
            "P\n",
            "y\n",
            "t\n",
            "h\n",
            "o\n",
            "n\n"
          ]
        }
      ]
    },
    {
      "cell_type": "code",
      "source": [
        "#Fatiamento de string(slicing)\n",
        "texto = \"Eu estou aprendendo a programar com Python\"\n",
        "print(texto[2:5])\n",
        "print(texto[4:])\n",
        "print(texto[::2])"
      ],
      "metadata": {
        "colab": {
          "base_uri": "https://localhost:8080/"
        },
        "id": "BJ0WInN9_TWR",
        "outputId": "c429f174-5f06-4ca7-d7d6-4995efee4ba3"
      },
      "execution_count": 59,
      "outputs": [
        {
          "output_type": "stream",
          "name": "stdout",
          "text": [
            " es\n",
            "stou aprendendo a programar com Python\n",
            "E so pednoapormrcmPto\n"
          ]
        }
      ]
    },
    {
      "cell_type": "code",
      "source": [
        "#Métodos comums\n",
        "print(texto.strip()) #remover espaços\n",
        "\n",
        "#Converter em maiúsculas e minúsculas\n",
        "print(texto.upper())\n",
        "print(texto.lower())"
      ],
      "metadata": {
        "colab": {
          "base_uri": "https://localhost:8080/"
        },
        "id": "g_qjjuahALjD",
        "outputId": "51f570d5-1a58-44b6-bf4f-8c83e0259920"
      },
      "execution_count": 61,
      "outputs": [
        {
          "output_type": "stream",
          "name": "stdout",
          "text": [
            "Eu estou aprendendo a programar com Python\n",
            "EU ESTOU APRENDENDO A PROGRAMAR COM PYTHON\n",
            "eu estou aprendendo a programar com python\n"
          ]
        }
      ]
    }
  ]
}